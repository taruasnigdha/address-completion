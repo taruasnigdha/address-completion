{
 "cells": [
  {
   "cell_type": "code",
   "execution_count": 13,
   "metadata": {},
   "outputs": [],
   "source": [
    "import pandas as pd\n",
    "import numpy as np\n",
    "import random"
   ]
  },
  {
   "cell_type": "code",
   "execution_count": 14,
   "metadata": {},
   "outputs": [],
   "source": [
    "df = pd.read_csv('data/Dataset_Generator_for_DTDC.csv')"
   ]
  },
  {
   "cell_type": "code",
   "execution_count": 15,
   "metadata": {},
   "outputs": [
    {
     "name": "stdout",
     "output_type": "stream",
     "text": [
      "<class 'pandas.core.frame.DataFrame'>\n",
      "RangeIndex: 49639 entries, 0 to 49638\n",
      "Data columns (total 42 columns):\n",
      " #   Column                 Non-Null Count  Dtype  \n",
      "---  ------                 --------------  -----  \n",
      " 0   Origin                 49639 non-null  object \n",
      " 1   Destination            49639 non-null  object \n",
      " 2   Pouch No               49639 non-null  object \n",
      " 3   Date                   49639 non-null  object \n",
      " 4   Sender's Name          49639 non-null  object \n",
      " 5   Sender Phone           49639 non-null  int64  \n",
      " 6   Sender Address         49639 non-null  object \n",
      " 7   Sender City            49639 non-null  object \n",
      " 8   Sender State           49639 non-null  object \n",
      " 9   Sender Pincode         49639 non-null  int64  \n",
      " 10  Sender GSTIN           26778 non-null  object \n",
      " 11  Total Pieces           49639 non-null  int64  \n",
      " 12  Actual Wt              49639 non-null  float64\n",
      " 13  Volumetric Wt          49639 non-null  float64\n",
      " 14  Chargeable Wt          49639 non-null  float64\n",
      " 15  Paperwork              49639 non-null  object \n",
      " 16  Sender Signature       29811 non-null  object \n",
      " 17  Sender Date            49639 non-null  object \n",
      " 18  Recipient Name         49639 non-null  object \n",
      " 19  Recipient Phone        49639 non-null  int64  \n",
      " 20  Recipient Address      49639 non-null  object \n",
      " 21  Recipient City         49639 non-null  object \n",
      " 22  Receiver State         49639 non-null  object \n",
      " 23  Receiver Pincode       49639 non-null  int64  \n",
      " 24  Description            49639 non-null  object \n",
      " 25  Value Added Services   39399 non-null  object \n",
      " 26  Consignment No         49639 non-null  object \n",
      " 27  Expiry Date            49639 non-null  object \n",
      " 28  Booking Code           49639 non-null  object \n",
      " 29  Recipient GSTIN        13866 non-null  object \n",
      " 30  Receiver Name          49639 non-null  object \n",
      " 31  Relationship           49639 non-null  object \n",
      " 32  Company Stamp          19865 non-null  object \n",
      " 33  Receiver Signature     19865 non-null  object \n",
      " 34  Receive Date           49639 non-null  object \n",
      " 35  Tariff                 49639 non-null  float64\n",
      " 36  VAS Charges            49639 non-null  float64\n",
      " 37  Total Amount           49639 non-null  float64\n",
      " 38  Mode                   49639 non-null  object \n",
      " 39  Risk Surcharge         49639 non-null  object \n",
      " 40  Mode of Payment        49639 non-null  object \n",
      " 41  Nature of Consignment  49639 non-null  object \n",
      "dtypes: float64(6), int64(5), object(31)\n",
      "memory usage: 15.9+ MB\n"
     ]
    }
   ],
   "source": [
    "df.info()"
   ]
  },
  {
   "cell_type": "code",
   "execution_count": 16,
   "metadata": {},
   "outputs": [],
   "source": [
    "all_addresses = pd.concat([df['Recipient Address'], df['Sender Address']]).reset_index(drop=True)\n",
    "n = len(all_addresses)\n",
    "labels = np.zeros(n, dtype=int)\n",
    "incomplete_indices = np.random.choice(n, size=int(0.2 * n), replace=False)\n",
    "labels[incomplete_indices] = 1"
   ]
  },
  {
   "cell_type": "code",
   "execution_count": 17,
   "metadata": {},
   "outputs": [],
   "source": [
    "address_df = pd.DataFrame({\n",
    "    'complete_address': all_addresses,\n",
    "    'address': all_addresses,\n",
    "    'label': labels\n",
    "})"
   ]
  },
  {
   "cell_type": "code",
   "execution_count": 18,
   "metadata": {},
   "outputs": [],
   "source": [
    "def truncate_address(address):\n",
    "    words = str(address).split()\n",
    "    if not words:\n",
    "        return \"\"\n",
    "    num_to_remove = len(words) // 2\n",
    "    indices_to_remove = random.sample(range(len(words)), k=num_to_remove)\n",
    "    new_words = [word for i, word in enumerate(words) if i not in indices_to_remove]\n",
    "    return ' '.join(new_words)\n",
    "\n",
    "address_df.loc[address_df['label'] == 1, 'address'] = address_df.loc[address_df['label'] == 1, 'address'].apply(truncate_address)"
   ]
  },
  {
   "cell_type": "code",
   "execution_count": 19,
   "metadata": {},
   "outputs": [],
   "source": [
    "# Separate by label\n",
    "df_complete = address_df[address_df['label'] == 0]\n",
    "df_incomplete = address_df[address_df['label'] == 1]\n",
    "\n",
    "# Sample 800 complete and 200 incomplete addresses\n",
    "sample_complete = df_complete.sample(n=800, random_state=42)\n",
    "sample_incomplete = df_incomplete.sample(n=200, random_state=42)\n",
    "\n",
    "# Combine and shuffle\n",
    "address_df = pd.concat([sample_complete, sample_incomplete]).sample(frac=1).reset_index(drop=True)"
   ]
  },
  {
   "cell_type": "code",
   "execution_count": 20,
   "metadata": {},
   "outputs": [
    {
     "name": "stdout",
     "output_type": "stream",
     "text": [
      "                                    complete_address  \\\n",
      "0  62, Guha Zila, Opposite Mall, Pune, Maharashtr...   \n",
      "1  41/935 Sha Path, Opposite Mall, Ahmedabad, Guj...   \n",
      "2  26/36 Soman Marg, Behind School, Hyderabad, Te...   \n",
      "3  525, Khalsa Nagar, Behind School, Varanasi, Ut...   \n",
      "4  H.No. 51 Srinivas Path, Behind School, Hyderab...   \n",
      "\n",
      "                                             address  label  \n",
      "0  62, Guha Zila, Opposite Mall, Pune, Maharashtr...      0  \n",
      "1            41/935 Opposite Mall, Ahmedabad, 783648      1  \n",
      "2  26/36 Soman Marg, Behind School, Hyderabad, Te...      0  \n",
      "3  525, Khalsa Nagar, Behind School, Varanasi, Ut...      0  \n",
      "4  H.No. 51 Srinivas Path, Behind School, Hyderab...      0  \n"
     ]
    }
   ],
   "source": [
    "print(address_df.head())"
   ]
  },
  {
   "cell_type": "code",
   "execution_count": 21,
   "metadata": {},
   "outputs": [
    {
     "name": "stdout",
     "output_type": "stream",
     "text": [
      "Incomplete Address Example: 41/935 Opposite Mall, Ahmedabad, 783648\n",
      "Complete Address Example: 62, Guha Zila, Opposite Mall, Pune, Maharashtra - 515733\n"
     ]
    }
   ],
   "source": [
    "incomplete_address = address_df[address_df['label'] == 1]['address'].iloc[0]\n",
    "complete_address = address_df[address_df['label'] == 0]['address'].iloc[0]\n",
    "\n",
    "print('Incomplete Address Example:', incomplete_address)\n",
    "print('Complete Address Example:', complete_address)"
   ]
  },
  {
   "cell_type": "code",
   "execution_count": 22,
   "metadata": {},
   "outputs": [],
   "source": [
    "# save the synthetic data:\n",
    "address_df.to_csv('data/synthetic_address_data.csv',index=False)"
   ]
  },
  {
   "cell_type": "code",
   "execution_count": 23,
   "metadata": {},
   "outputs": [
    {
     "data": {
      "text/plain": [
       "label\n",
       "0    800\n",
       "1    200\n",
       "Name: count, dtype: int64"
      ]
     },
     "execution_count": 23,
     "metadata": {},
     "output_type": "execute_result"
    }
   ],
   "source": [
    "address_df['label'].value_counts()"
   ]
  },
  {
   "cell_type": "code",
   "execution_count": 24,
   "metadata": {},
   "outputs": [
    {
     "name": "stdout",
     "output_type": "stream",
     "text": [
      "🏠 ADDRESS EXTRACTION EXAMPLES\n",
      "==================================================\n",
      "\n",
      "📍 Example 1: C-704, Gayatri Shivam, Thakur Complex, Kandivali East, 400101\n",
      "🤖 Extracted: {\"building\": \"Gayatri Shivam\", \"house_details\": \"C-704\", \"locality\": \"Thakur Complex\", \"pincode\": \"400101\"}\n",
      "\n",
      "📍 Example 2: Villa 141, Geown Oasis, V Kallahalli, Off Sarjapur, Bengaluru, Karnataka, 562125\n",
      "🤖 Extracted: {\"building\": \"Geown Oasis\", \"house_details\": \"Villa 141\", \"locality\": \"V Kallahalli\", \"city\": \"Bengaluru\", \"state\": \"Karnataka\", \"pincode\": \"562125\"}\n",
      "\n",
      "📍 Example 3: E401 Supertech Icon Indrapam 201301 UP\n",
      "🤖 Extracted: {\"building\": \"Supertech Icon\", \"house_details\": \"E401\", \"city\": \"Noida\", \"state\": \"UP\", \"pincode\": \"201301\"}\n"
     ]
    }
   ],
   "source": [
    "import torch\n",
    "from transformers import AutoTokenizer, AutoModelForCausalLM\n",
    "\n",
    "# Load model and tokenizer\n",
    "model_name = \"shiprocket-ai/open-llama-1b-address-completion\"\n",
    "tokenizer = AutoTokenizer.from_pretrained(model_name)\n",
    "\n",
    "# Load the merged model (no need for PEFT since weights are already merged)\n",
    "model = AutoModelForCausalLM.from_pretrained(\n",
    "    model_name,\n",
    "    torch_dtype=torch.float16,\n",
    "    device_map=\"auto\"\n",
    ")\n",
    "\n",
    "def extract_address_components(address, max_new_tokens=150):\n",
    "    \"\"\"Extract address components using the model\"\"\"\n",
    "    \n",
    "    # Format prompt for Llama 3.2-1B-Instruct\n",
    "    prompt = f\"\"\"<|begin_of_text|><|start_header_id|>user<|end_header_id|>\n",
    "\n",
    "Extract address components from: {address}<|eot_id|><|start_header_id|>assistant<|end_header_id|>\n",
    "\n",
    "\"\"\"\n",
    "    \n",
    "    # Tokenize\n",
    "    inputs = tokenizer(prompt, return_tensors=\"pt\", truncation=True, max_length=512)\n",
    "    \n",
    "    # FIX: Move inputs to the same device as the model\n",
    "    device = next(model.parameters()).device\n",
    "    inputs = {k: v.to(device) for k, v in inputs.items()}\n",
    "    \n",
    "    # Generate\n",
    "    with torch.no_grad():\n",
    "        outputs = model.generate(\n",
    "            **inputs,\n",
    "            max_new_tokens=max_new_tokens,\n",
    "            temperature=0.1,\n",
    "            top_p=0.9,\n",
    "            do_sample=True,\n",
    "            pad_token_id=tokenizer.eos_token_id,\n",
    "            repetition_penalty=1.05\n",
    "        )\n",
    "    \n",
    "    # Decode only the new tokens\n",
    "    input_length = inputs['input_ids'].shape[1]\n",
    "    generated_tokens = outputs[0][input_length:]\n",
    "    response = tokenizer.decode(generated_tokens, skip_special_tokens=True)\n",
    "    \n",
    "    return response.strip()\n",
    "\n",
    "# Example usage\n",
    "test_addresses = [\n",
    "    \"C-704, Gayatri Shivam, Thakur Complex, Kandivali East, 400101\",\n",
    "    \"Villa 141, Geown Oasis, V Kallahalli, Off Sarjapur, Bengaluru, Karnataka, 562125\",\n",
    "    \"E401 Supertech Icon Indrapam 201301 UP\"\n",
    "]\n",
    "\n",
    "print(\"🏠 ADDRESS EXTRACTION EXAMPLES\")\n",
    "print(\"=\" * 50)\n",
    "\n",
    "for i, address in enumerate(test_addresses, 1):\n",
    "    print(f\"\\n📍 Example {i}: {address}\")\n",
    "    result = extract_address_components(address)\n",
    "    print(f\"🤖 Extracted: {result}\")\n"
   ]
  },
  {
   "cell_type": "code",
   "execution_count": 25,
   "metadata": {},
   "outputs": [
    {
     "name": "stdout",
     "output_type": "stream",
     "text": [
      "                                    complete_address  \\\n",
      "0  62, Guha Zila, Opposite Mall, Pune, Maharashtr...   \n",
      "1  41/935 Sha Path, Opposite Mall, Ahmedabad, Guj...   \n",
      "2  26/36 Soman Marg, Behind School, Hyderabad, Te...   \n",
      "3  525, Khalsa Nagar, Behind School, Varanasi, Ut...   \n",
      "4  H.No. 51 Srinivas Path, Behind School, Hyderab...   \n",
      "\n",
      "                                             address  label building  \\\n",
      "0  62, Guha Zila, Opposite Mall, Pune, Maharashtr...      0      NaN   \n",
      "1            41/935 Opposite Mall, Ahmedabad, 783648      1      NaN   \n",
      "2  26/36 Soman Marg, Behind School, Hyderabad, Te...      0      NaN   \n",
      "3  525, Khalsa Nagar, Behind School, Varanasi, Ut...      0      NaN   \n",
      "4  H.No. 51 Srinivas Path, Behind School, Hyderab...      0      NaN   \n",
      "\n",
      "  house_details      locality pincode       city          state  \n",
      "0            62    Guha Zilla  411533       Pune    Maharashtra  \n",
      "1        41/935           NaN  382648  Ahmedabad            NaN  \n",
      "2         26/36           NaN  500006  Hyderabad      Telangana  \n",
      "3           525  Khalsa Nagar  201489   Varanasi  Uttar Pradesh  \n",
      "4      H.No. 51           NaN  500095  Hyderabad      Telangana  \n"
     ]
    }
   ],
   "source": [
    "import json\n",
    "\n",
    "def parse_extracted_address(extracted_str):\n",
    "    try:\n",
    "        # The output is a string representation of a dictionary, but might be malformed\n",
    "        # Let's try to fix it by finding the JSON object within the string\n",
    "        start = extracted_str.find('{')\n",
    "        end = extracted_str.rfind('}') + 1\n",
    "        if start != -1 and end != 0:\n",
    "            json_str = extracted_str[start:end]\n",
    "            return json.loads(json_str)\n",
    "    except (json.JSONDecodeError, SyntaxError):\n",
    "        return {}\n",
    "    return {}\n",
    "\n",
    "# Extract components for all addresses\n",
    "address_df['extracted_components'] = address_df['address'].apply(extract_address_components)\n",
    "\n",
    "# Parse the extracted components\n",
    "address_df['parsed_components'] = address_df['extracted_components'].apply(parse_extracted_address)\n",
    "\n",
    "# Create new columns from the parsed components\n",
    "components_df = address_df['parsed_components'].apply(pd.Series)\n",
    "\n",
    "# Define the desired columns\n",
    "entity_columns = ['building', 'house_details', 'locality', 'pincode', 'city', 'state']\n",
    "\n",
    "# Ensure all desired columns exist, filling with NaN if they don't\n",
    "for col in entity_columns:\n",
    "    if col not in components_df.columns:\n",
    "        components_df[col] = np.nan\n",
    "\n",
    "\n",
    "\n",
    "# Concatenate the new columns with the original dataframe\n",
    "address_df = pd.concat([address_df, components_df[entity_columns]], axis=1)\n",
    "\n",
    "# Drop the intermediate columns\n",
    "address_df = address_df.drop(columns=['extracted_components', 'parsed_components'])\n",
    "\n",
    "# Display the result\n",
    "print(address_df.head())"
   ]
  },
  {
   "cell_type": "code",
   "execution_count": 26,
   "metadata": {},
   "outputs": [],
   "source": [
    "address_df.to_csv('data/synthetic_address_subset_data.csv',index=False)"
   ]
  },
  {
   "cell_type": "code",
   "execution_count": null,
   "metadata": {},
   "outputs": [
    {
     "data": {
      "text/html": [
       "<div>\n",
       "<style scoped>\n",
       "    .dataframe tbody tr th:only-of-type {\n",
       "        vertical-align: middle;\n",
       "    }\n",
       "\n",
       "    .dataframe tbody tr th {\n",
       "        vertical-align: top;\n",
       "    }\n",
       "\n",
       "    .dataframe thead th {\n",
       "        text-align: right;\n",
       "    }\n",
       "</style>\n",
       "<table border=\"1\" class=\"dataframe\">\n",
       "  <thead>\n",
       "    <tr style=\"text-align: right;\">\n",
       "      <th></th>\n",
       "      <th>complete_address</th>\n",
       "      <th>address</th>\n",
       "      <th>label</th>\n",
       "      <th>building</th>\n",
       "      <th>house_details</th>\n",
       "      <th>locality</th>\n",
       "      <th>pincode</th>\n",
       "      <th>city</th>\n",
       "      <th>state</th>\n",
       "    </tr>\n",
       "  </thead>\n",
       "  <tbody>\n",
       "    <tr>\n",
       "      <th>0</th>\n",
       "      <td>62, Guha Zila, Opposite Mall, Pune, Maharashtr...</td>\n",
       "      <td>62, Guha Zila, Opposite Mall, Pune, Maharashtr...</td>\n",
       "      <td>0</td>\n",
       "      <td>NaN</td>\n",
       "      <td>62</td>\n",
       "      <td>Guha Zilla</td>\n",
       "      <td>411533</td>\n",
       "      <td>Pune</td>\n",
       "      <td>Maharashtra</td>\n",
       "    </tr>\n",
       "    <tr>\n",
       "      <th>1</th>\n",
       "      <td>41/935 Sha Path, Opposite Mall, Ahmedabad, Guj...</td>\n",
       "      <td>41/935 Opposite Mall, Ahmedabad, 783648</td>\n",
       "      <td>1</td>\n",
       "      <td>NaN</td>\n",
       "      <td>41/935</td>\n",
       "      <td>NaN</td>\n",
       "      <td>382648</td>\n",
       "      <td>Ahmedabad</td>\n",
       "      <td>NaN</td>\n",
       "    </tr>\n",
       "    <tr>\n",
       "      <th>2</th>\n",
       "      <td>26/36 Soman Marg, Behind School, Hyderabad, Te...</td>\n",
       "      <td>26/36 Soman Marg, Behind School, Hyderabad, Te...</td>\n",
       "      <td>0</td>\n",
       "      <td>NaN</td>\n",
       "      <td>26/36</td>\n",
       "      <td>NaN</td>\n",
       "      <td>500006</td>\n",
       "      <td>Hyderabad</td>\n",
       "      <td>Telangana</td>\n",
       "    </tr>\n",
       "    <tr>\n",
       "      <th>3</th>\n",
       "      <td>525, Khalsa Nagar, Behind School, Varanasi, Ut...</td>\n",
       "      <td>525, Khalsa Nagar, Behind School, Varanasi, Ut...</td>\n",
       "      <td>0</td>\n",
       "      <td>NaN</td>\n",
       "      <td>525</td>\n",
       "      <td>Khalsa Nagar</td>\n",
       "      <td>201489</td>\n",
       "      <td>Varanasi</td>\n",
       "      <td>Uttar Pradesh</td>\n",
       "    </tr>\n",
       "    <tr>\n",
       "      <th>4</th>\n",
       "      <td>H.No. 51 Srinivas Path, Behind School, Hyderab...</td>\n",
       "      <td>H.No. 51 Srinivas Path, Behind School, Hyderab...</td>\n",
       "      <td>0</td>\n",
       "      <td>NaN</td>\n",
       "      <td>H.No. 51</td>\n",
       "      <td>NaN</td>\n",
       "      <td>500095</td>\n",
       "      <td>Hyderabad</td>\n",
       "      <td>Telangana</td>\n",
       "    </tr>\n",
       "  </tbody>\n",
       "</table>\n",
       "</div>"
      ],
      "text/plain": [
       "                                    complete_address  \\\n",
       "0  62, Guha Zila, Opposite Mall, Pune, Maharashtr...   \n",
       "1  41/935 Sha Path, Opposite Mall, Ahmedabad, Guj...   \n",
       "2  26/36 Soman Marg, Behind School, Hyderabad, Te...   \n",
       "3  525, Khalsa Nagar, Behind School, Varanasi, Ut...   \n",
       "4  H.No. 51 Srinivas Path, Behind School, Hyderab...   \n",
       "\n",
       "                                             address  label building  \\\n",
       "0  62, Guha Zila, Opposite Mall, Pune, Maharashtr...      0      NaN   \n",
       "1            41/935 Opposite Mall, Ahmedabad, 783648      1      NaN   \n",
       "2  26/36 Soman Marg, Behind School, Hyderabad, Te...      0      NaN   \n",
       "3  525, Khalsa Nagar, Behind School, Varanasi, Ut...      0      NaN   \n",
       "4  H.No. 51 Srinivas Path, Behind School, Hyderab...      0      NaN   \n",
       "\n",
       "  house_details      locality pincode       city          state  \n",
       "0            62    Guha Zilla  411533       Pune    Maharashtra  \n",
       "1        41/935           NaN  382648  Ahmedabad            NaN  \n",
       "2         26/36           NaN  500006  Hyderabad      Telangana  \n",
       "3           525  Khalsa Nagar  201489   Varanasi  Uttar Pradesh  \n",
       "4      H.No. 51           NaN  500095  Hyderabad      Telangana  "
      ]
     },
     "execution_count": 27,
     "metadata": {},
     "output_type": "execute_result"
    }
   ],
   "source": [
    "address_df.head()"
   ]
  },
  {
   "cell_type": "code",
   "execution_count": null,
   "metadata": {},
   "outputs": [],
   "source": []
  }
 ],
 "metadata": {
  "kernelspec": {
   "display_name": "env",
   "language": "python",
   "name": "python3"
  },
  "language_info": {
   "codemirror_mode": {
    "name": "ipython",
    "version": 3
   },
   "file_extension": ".py",
   "mimetype": "text/x-python",
   "name": "python",
   "nbconvert_exporter": "python",
   "pygments_lexer": "ipython3",
   "version": "3.9.6"
  }
 },
 "nbformat": 4,
 "nbformat_minor": 4
}
